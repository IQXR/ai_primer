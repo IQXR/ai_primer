{
 "cells": [
  {
   "cell_type": "markdown",
   "id": "6fdd3a42efa31ff3",
   "metadata": {
    "collapsed": false,
    "jupyter": {
     "outputs_hidden": false
    }
   },
   "source": [
    "# Artificial Intelligence Primer\n",
    "\n",
    "Welcome! This project offers a quick view and practical examples for AI, avoiding the complex installation setup.\n",
    "\n",
    "We will start will the concepts of Artificial Intelligence, Machine Learning, Deep Learning, and AI frameworks. Then we will explore each architecture in increasing level of complexity and accuracy."
   ]
  },
  {
   "cell_type": "markdown",
   "id": "971f4470-8911-4a9a-8f0a-d1e700eb530f",
   "metadata": {},
   "source": [
    "## About this notebook\n",
    "\n",
    "This is a Jupyter notebook. Notice that we can have both prose, like this explanation, and code, like the cell below. To execute the cell below, select it and press the ▶️ (*Run this cell and Advance*) icon in the toolbar."
   ]
  },
  {
   "cell_type": "code",
   "execution_count": 2,
   "id": "88800966-4135-459e-b57c-ba36013fa0ca",
   "metadata": {},
   "outputs": [
    {
     "name": "stdout",
     "output_type": "stream",
     "text": [
      "Hello World!\n"
     ]
    }
   ],
   "source": [
    "print('Hello World!')"
   ]
  },
  {
   "cell_type": "markdown",
   "id": "017f3f63-3ec6-4ee3-98f0-34f8b0537f7f",
   "metadata": {},
   "source": [
    "The shortcut for execution is `Shift` + `Enter`.\n",
    "\n",
    "Optionally, you can press the ⏩ (*Restart the kernel and run all cells*) icon to execute the whole notebook at once. Since this is a learning and not a production notebook, we recommend you step one cell at a time instead.\n",
    "\n",
    "Notice that you can execute cells in any order, or multiple times. The history of cell execution is labeled to the left of each cell, like \\[1\\] indicating this is the first cell that was executed. Most notebooks expect a linear progression, but you can re-run any cell at any time."
   ]
  },
  {
   "cell_type": "code",
   "execution_count": null,
   "id": "84eb3bb6-1f49-4a3b-95e6-3b2023cec5cf",
   "metadata": {},
   "outputs": [],
   "source": []
  }
 ],
 "metadata": {
  "kernelspec": {
   "display_name": "Python 3 (ipykernel)",
   "language": "python",
   "name": "python3"
  },
  "language_info": {
   "codemirror_mode": {
    "name": "ipython",
    "version": 3
   },
   "file_extension": ".py",
   "mimetype": "text/x-python",
   "name": "python",
   "nbconvert_exporter": "python",
   "pygments_lexer": "ipython3",
   "version": "3.12.8"
  }
 },
 "nbformat": 4,
 "nbformat_minor": 5
}
