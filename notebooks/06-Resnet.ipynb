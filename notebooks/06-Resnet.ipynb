{
 "cells": [
  {
   "cell_type": "markdown",
   "id": "d9ea7e09-81e3-407b-a88b-9c926eab6a30",
   "metadata": {
    "collapsed": false,
    "jupyter": {
     "outputs_hidden": false
    }
   },
   "source": [
    "# 06- ResNet\n",
    "\n",
    "When you have a deep layered network, there is a problem of vanishing gradients. The gradients from where the loss function is calculated easily shrink to zero after several applications of the chain rule. This result on the weights never updating its values and therefore, no learning is being performed.\n",
    "\n",
    "With ResNets, the gradients can flow directly through the skip connections backwards from later layers to initial filters. A ResNet connection looks like this:"
   ]
  },
  {
   "cell_type": "markdown",
   "id": "141e1e6e-87f5-4859-9c31-f088f7dda9d0",
   "metadata": {},
   "source": [
    "![](../media/resnet/ResNet_connection.png \"Deep Residual Learning for Image Recognition\")"
   ]
  },
  {
   "cell_type": "markdown",
   "id": "398b2ac0-2daf-480f-9bee-e8dd9763ccc5",
   "metadata": {},
   "source": [
    "So it allows the previous layer (**Res**idual inputs) to propagate thtrough the **Net**work, creating a ResNet. Some skip connections can happen between multiple layers, like below.\n",
    "\n",
    "<img src=\"../media/intro/SkipConnections.jpg\" alt=\"SkipConnections by analyticsvidhya\" style=\"width: 60%;\"/>"
   ]
  },
  {
   "cell_type": "markdown",
   "id": "b47d2c1e-af26-47f8-a036-843765064fc1",
   "metadata": {
    "collapsed": false,
    "jupyter": {
     "outputs_hidden": false
    }
   },
   "source": [
    "## Transfer Learning\n",
    "\n",
    "Transfer learning is a machine learning method where a model developed for a task is reused as the starting point for a model on a second task.\n",
    "\n",
    "It is a popular approach in deep learning where pre-trained models are used as the starting point on computer vision and natural language processing tasks given the vast compute and time resources required to develop neural network models on these problems and from the huge jumps in skill that they provide on related problems.\n",
    "\n",
    "We will use `resnet18`, an image model trained on the ImageNet dataset as a photograph classification with 1000 classes.\n",
    "\n",
    "We will split the ResNet common layers into a feature extractor, and a (fine-tuned for our dataset) classifier."
   ]
  },
  {
   "cell_type": "markdown",
   "id": "483d5a8c-e3e7-47b2-969d-008b268be63c",
   "metadata": {},
   "source": [
    "<img src=\"../media/intro/Fine-Tuning.png\" alt=\"Fine-Tuning by geeksforgeeks\" style=\"width: 60%;\"/>"
   ]
  },
  {
   "cell_type": "code",
   "execution_count": null,
   "id": "83898166-5ad9-410c-b211-b43371db5481",
   "metadata": {},
   "outputs": [],
   "source": [
    "import torch\n",
    "import torch.nn as nn\n",
    "from matplotlib import pyplot as plt\n",
    "import numpy as np\n",
    "import torchvision\n",
    "import torchvision.models as models\n",
    "from torchvision import transforms\n",
    "import torch.optim as optim\n",
    "import time\n",
    "import tqdm as tqdm\n",
    "from torch.autograd import Variable\n",
    "from torchvision.models import ResNet18_Weights"
   ]
  },
  {
   "cell_type": "code",
   "execution_count": null,
   "id": "3e246ed2-a6e9-4440-aa97-8a4104e1d99d",
   "metadata": {},
   "outputs": [],
   "source": [
    "device = 'cuda' if torch.cuda.is_available() else 'cpu'\n",
    "print(f\"Using {device} device\")"
   ]
  },
  {
   "cell_type": "markdown",
   "id": "5c7a00a8-aedd-425a-b066-0cb013338d8f",
   "metadata": {},
   "source": [
    "### Hyperparameters"
   ]
  },
  {
   "cell_type": "code",
   "execution_count": null,
   "id": "1657ffb3-c9d5-449c-bbcd-35dab73d9382",
   "metadata": {},
   "outputs": [],
   "source": [
    "RATIO_VALIDATION = 0.2\n",
    "BATCH_SIZE = 64\n",
    "LEARNING_RATE = 0.01\n",
    "EPOCHS = 10"
   ]
  },
  {
   "cell_type": "markdown",
   "id": "8e339219-0300-4575-907c-a3d6c95ab703",
   "metadata": {},
   "source": [
    "### Load Dataset\n",
    "\n",
    "It is important to have a dataset that fits pretrained models. The ResNet implemented in torchvision take an RGB image as inputs, which has three channels. Our dataset has one B/W channel. \n",
    "\n",
    "So, here we repeat the single-channel grey scale digits image three times to fit the torchvision model."
   ]
  },
  {
   "cell_type": "code",
   "execution_count": null,
   "id": "831822cc-98bb-4fc2-931b-013aabb2b5ae",
   "metadata": {},
   "outputs": [],
   "source": [
    "# Load model tools\n",
    "from scripts.model_tools import train_validate, test_validate, test_validate_confusion, set_fashion_dataset"
   ]
  },
  {
   "cell_type": "code",
   "execution_count": null,
   "id": "b70222b1-c61c-4582-bf93-a746d472437b",
   "metadata": {},
   "outputs": [],
   "source": [
    "# Define a transformation pipeline. \n",
    "transform = transforms.Compose(\n",
    "    [\n",
    "        transforms.ToTensor(),\n",
    "        # ResNet pretrained model. Grayscale to RGB\n",
    "        transforms.Lambda(lambda x: x.repeat(3, 1, 1))\n",
    "    ]\n",
    ")\n",
    "train_ds, test_ds, train_loader, val_loader, test_loader, classes = set_fashion_dataset(transform, RATIO_VALIDATION, BATCH_SIZE)"
   ]
  },
  {
   "cell_type": "markdown",
   "id": "056370f6-a375-4a8a-a26f-0123d7d06752",
   "metadata": {},
   "source": [
    "### Build the model\n",
    "\n",
    "We build upon the `models.resnet18` model. If pretrained, we initialize it with the pre-computed weights from its training. Otherwise, these weights are trained from our dataset."
   ]
  },
  {
   "cell_type": "code",
   "execution_count": null,
   "id": "5804ebb8-df4f-446e-ab4b-fdd0f2aa57bf",
   "metadata": {},
   "outputs": [],
   "source": [
    "class ResNetFeatureExtractor18(nn.Module):\n",
    "    def __init__(self, pretrained = True):\n",
    "        super(ResNetFeatureExtractor18, self).__init__()\n",
    "        #model_resnet18 = models.resnet18(pretrained=pretrained) # pretrained is deprecated, replace with weights parameter\n",
    "        weights = ResNet18_Weights.IMAGENET1K_V1 if pretrained else None\n",
    "        model_resnet18 = models.resnet18(weights=weights)\n",
    "        \n",
    "        self.conv1 = model_resnet18.conv1\n",
    "        self.bn1 = model_resnet18.bn1\n",
    "        self.relu = model_resnet18.relu\n",
    "        self.maxpool = model_resnet18.maxpool\n",
    "        self.layer1 = model_resnet18.layer1\n",
    "        self.layer2 = model_resnet18.layer2\n",
    "        self.layer3 = model_resnet18.layer3\n",
    "        self.layer4 = model_resnet18.layer4\n",
    "        self.avgpool = model_resnet18.avgpool\n",
    "\n",
    "    def forward(self, x):\n",
    "        x = self.relu(self.bn1(self.conv1(x)))\n",
    "        x = self.maxpool(x)\n",
    "        x = self.layer1(x)\n",
    "        x = self.layer2(x)\n",
    "        x = self.layer3(x)\n",
    "        x = self.layer4(x)\n",
    "        x = self.avgpool(x)\n",
    "        x = x.view(x.size(0), -1)\n",
    "\n",
    "        return x\n",
    "\n",
    "class ResClassifier(nn.Module):\n",
    "    def __init__(self, dropout_p=0.5): #in_features=512\n",
    "        super(ResClassifier, self).__init__()        \n",
    "        self.fc = nn.Linear(512, 10)\n",
    "    def forward(self, x):       \n",
    "        out = self.fc(x)\n",
    "        return out\n",
    "\n",
    "# Calculate test accuracy\n",
    "def test_accuracy(data_iter, netG, netF):\n",
    "    \"\"\"Evaluate testset accuracy of a model.\"\"\"\n",
    "    acc_sum,n = 0,0\n",
    "    for (imgs, labels) in data_iter:\n",
    "        # send data to the GPU if cuda is available\n",
    "        if torch.cuda.is_available():\n",
    "            imgs = imgs.cuda()\n",
    "            labels = labels.cuda()\n",
    "        netG.eval()\n",
    "        netF.eval()\n",
    "        with torch.no_grad():\n",
    "            labels = labels.long()\n",
    "            acc_sum += torch.sum((torch.argmax(netF(netG(imgs)), dim=1) == labels)).float()\n",
    "            n += labels.shape[0]\n",
    "    return acc_sum.item()/n"
   ]
  },
  {
   "cell_type": "markdown",
   "id": "a869fb58-0109-4bfb-86ab-b0e2e3e6d3eb",
   "metadata": {},
   "source": [
    "## Define Training for the model \n",
    "\n",
    "We will use `resnet18` as our feature extractor, and pass its output (bottleneck) to our classifier."
   ]
  },
  {
   "cell_type": "code",
   "execution_count": null,
   "id": "9ffe53ff-ca63-4786-baa1-ae2f99257a61",
   "metadata": {},
   "outputs": [],
   "source": [
    "def train_resnet(model_resnet, model_classifier, loss_fn, optimizer_resnet, optimizer_classifier, train_loader, test_loader, n_epochs:int=10):\n",
    "    if torch.cuda.is_available():\n",
    "        model_resnet = model_resnet.cuda()\n",
    "        model_classifier = model_classifier.cuda()\n",
    "    \n",
    "    for epoch in range(0, n_epochs):\n",
    "        n, start = 0, time.time()\n",
    "        train_l_sum = torch.tensor([0.0], dtype=torch.float32)\n",
    "        train_acc_sum = torch.tensor([0.0], dtype=torch.float32)\n",
    "        for i, (imgs, labels) in tqdm.tqdm(enumerate(iter(train_loader))):\n",
    "            model_resnet.train()\n",
    "            model_classifier.train()\n",
    "            imgs = Variable(imgs)\n",
    "            labels = Variable(labels)\n",
    "            # train on GPU if possible  \n",
    "            if torch.cuda.is_available():\n",
    "                imgs = imgs.cuda()\n",
    "                labels = labels.cuda()\n",
    "                train_l_sum = train_l_sum.cuda()\n",
    "                train_acc_sum = train_acc_sum.cuda()\n",
    "    \n",
    "            optimizer_resnet.zero_grad()\n",
    "            optimizer_classifier.zero_grad()\n",
    "    \n",
    "            # extracted feature\n",
    "            bottleneck = model_resnet(imgs)     \n",
    "            \n",
    "            # predicted labels\n",
    "            label_hat = model_classifier(bottleneck)\n",
    "    \n",
    "            # loss function\n",
    "            loss= loss_fn(label_hat, labels)\n",
    "            loss.backward()\n",
    "            optimizer_resnet.step()\n",
    "            optimizer_classifier.step()\n",
    "            \n",
    "            # calcualte training error\n",
    "            model_resnet.eval()\n",
    "            model_classifier.eval()\n",
    "            labels = labels.long()\n",
    "            train_l_sum += loss.float()\n",
    "            train_acc_sum += (torch.sum((torch.argmax(label_hat, dim=1) == labels))).float()\n",
    "            n += labels.shape[0]\n",
    "        test_acc = test_accuracy(iter(test_loader), model_resnet, model_classifier) \n",
    "        print('epoch %d, loss %.4f, train acc %.3f, test acc %.3f, time %.1f sec'\\\n",
    "            % (epoch + 1, train_l_sum/n, train_acc_sum/n, test_acc, time.time() - start))"
   ]
  },
  {
   "cell_type": "markdown",
   "id": "8f89e0b7-0989-4f2e-90fb-3025a2cce4c2",
   "metadata": {},
   "source": [
    "### Training without Pre-trained model\n",
    "\n",
    "The training will takea bit longer (comparatively, `resnet18` is a lightweight deep neural network), but we'll just use the resnet structure to train our model from scratch."
   ]
  },
  {
   "cell_type": "code",
   "execution_count": null,
   "id": "bf75c621-a7ff-4922-b858-e676b124d44a",
   "metadata": {},
   "outputs": [],
   "source": [
    "netG = ResNetFeatureExtractor18(pretrained = False)\n",
    "netF = ResClassifier()"
   ]
  },
  {
   "cell_type": "code",
   "execution_count": null,
   "id": "6ee93d5f-255b-4cdd-8798-ad940d546409",
   "metadata": {},
   "outputs": [],
   "source": [
    "# Setting up optimizer for both feature generator G and classifier F.\n",
    "opt_g = optim.SGD(netG.parameters(), lr=LEARNING_RATE, weight_decay=0.0005)\n",
    "opt_f = optim.SGD(netF.parameters(), lr=LEARNING_RATE, momentum=0.9, weight_decay=0.0005)\n",
    "# Loss function\n",
    "criterion = nn.CrossEntropyLoss()"
   ]
  },
  {
   "cell_type": "code",
   "execution_count": null,
   "id": "04c45cd4-9aea-41b6-96d1-8b3b14647557",
   "metadata": {},
   "outputs": [],
   "source": [
    "train_resnet(netG, netF, criterion, opt_g, opt_f, train_loader, test_loader, n_epochs=EPOCHS)"
   ]
  },
  {
   "cell_type": "markdown",
   "id": "ebc3fb54-a103-4610-8bb7-3517756cd014",
   "metadata": {},
   "source": [
    "## Fine Tuning a Pre-trained model\n",
    "\n",
    "The training with pre-trained model is around 2% better than the non-pre-trained model, as Fashion is a more complicated dataset."
   ]
  },
  {
   "cell_type": "code",
   "execution_count": null,
   "id": "87f808fa-eaac-4210-89ce-5fff7efacd27",
   "metadata": {},
   "outputs": [],
   "source": [
    "netG = ResNetFeatureExtractor18(pretrained=True)\n",
    "netF = ResClassifier()"
   ]
  },
  {
   "cell_type": "code",
   "execution_count": null,
   "id": "97656130-c9f8-4a9c-94b3-0535d8630279",
   "metadata": {},
   "outputs": [],
   "source": [
    "# Setting up optimizer for both feature generator G and classifier F.\n",
    "opt_g = optim.SGD(netG.parameters(), lr=LEARNING_RATE, weight_decay=0.0005)\n",
    "opt_f = optim.SGD(netF.parameters(), lr=LEARNING_RATE, momentum=0.9, weight_decay=0.0005)\n",
    "# loss function\n",
    "criterion = nn.CrossEntropyLoss()"
   ]
  },
  {
   "cell_type": "code",
   "execution_count": null,
   "id": "ce514f27-3050-4f2a-ae4a-6a7d23954ae2",
   "metadata": {},
   "outputs": [],
   "source": [
    "train_resnet(netG, netF, criterion, opt_g, opt_f, train_loader, test_loader, n_epochs=EPOCHS)"
   ]
  },
  {
   "cell_type": "markdown",
   "id": "fbd641b1-f186-4ff0-bc40-0db47dcb4593",
   "metadata": {},
   "source": [
    "**Optional Notebook: [A0-PyTorch Tutorial](A0-PyTorch%20Tutorial.ipynb)**"
   ]
  },
  {
   "cell_type": "code",
   "execution_count": null,
   "id": "043a83b3-a059-42ff-9df9-969f7b5302cf",
   "metadata": {},
   "outputs": [],
   "source": []
  }
 ],
 "metadata": {
  "kernelspec": {
   "display_name": "Python 3 (ipykernel)",
   "language": "python",
   "name": "python3"
  },
  "language_info": {
   "codemirror_mode": {
    "name": "ipython",
    "version": 3
   },
   "file_extension": ".py",
   "mimetype": "text/x-python",
   "name": "python",
   "nbconvert_exporter": "python",
   "pygments_lexer": "ipython3",
   "version": "3.12.8"
  }
 },
 "nbformat": 4,
 "nbformat_minor": 5
}
